{
 "cells": [
  {
   "cell_type": "markdown",
   "source": [
    "# movie lens recommender system\n",
    "## for this data we chose the content based approach\n",
    "## this code was written by Erez Ratner, Ilan Yevdaiev and Ido Reshef only\n",
    "## for more info please refer to the presentation :\n",
    "## https://www.canva.com/design/DAFMHeMPZlU/z0qHan_aSeVS2F89jIKuQg/view?utm_content=DAFMHeMPZlU&utm_campaign=designshare&utm_medium=link&utm_source=publishsharelink"
   ],
   "metadata": {
    "collapsed": false,
    "pycharm": {
     "name": "#%% md\n"
    }
   }
  },
  {
   "cell_type": "code",
   "execution_count": 1,
   "metadata": {
    "pycharm": {
     "name": "#%%\n"
    }
   },
   "outputs": [],
   "source": [
    "import numpy as np\n",
    "import pandas as pd\n",
    "import matplotlib.pyplot as plt\n",
    "import seaborn as sns\n",
    "from lightgbm import LGBMRegressor\n",
    "import warnings\n",
    "warnings.filterwarnings(\"ignore\")"
   ]
  },
  {
   "cell_type": "code",
   "execution_count": 2,
   "metadata": {
    "pycharm": {
     "name": "#%%\n"
    }
   },
   "outputs": [
    {
     "data": {
      "text/plain": "          movieId  tagId  relevance\n0               1      1    0.02875\n1               1      2    0.02375\n2               1      3    0.06250\n3               1      4    0.07575\n4               1      5    0.14075\n...           ...    ...        ...\n15584443   206499   1124    0.11000\n15584444   206499   1125    0.04850\n15584445   206499   1126    0.01325\n15584446   206499   1127    0.14025\n15584447   206499   1128    0.03350\n\n[15584448 rows x 3 columns]",
      "text/html": "<div>\n<style scoped>\n    .dataframe tbody tr th:only-of-type {\n        vertical-align: middle;\n    }\n\n    .dataframe tbody tr th {\n        vertical-align: top;\n    }\n\n    .dataframe thead th {\n        text-align: right;\n    }\n</style>\n<table border=\"1\" class=\"dataframe\">\n  <thead>\n    <tr style=\"text-align: right;\">\n      <th></th>\n      <th>movieId</th>\n      <th>tagId</th>\n      <th>relevance</th>\n    </tr>\n  </thead>\n  <tbody>\n    <tr>\n      <th>0</th>\n      <td>1</td>\n      <td>1</td>\n      <td>0.02875</td>\n    </tr>\n    <tr>\n      <th>1</th>\n      <td>1</td>\n      <td>2</td>\n      <td>0.02375</td>\n    </tr>\n    <tr>\n      <th>2</th>\n      <td>1</td>\n      <td>3</td>\n      <td>0.06250</td>\n    </tr>\n    <tr>\n      <th>3</th>\n      <td>1</td>\n      <td>4</td>\n      <td>0.07575</td>\n    </tr>\n    <tr>\n      <th>4</th>\n      <td>1</td>\n      <td>5</td>\n      <td>0.14075</td>\n    </tr>\n    <tr>\n      <th>...</th>\n      <td>...</td>\n      <td>...</td>\n      <td>...</td>\n    </tr>\n    <tr>\n      <th>15584443</th>\n      <td>206499</td>\n      <td>1124</td>\n      <td>0.11000</td>\n    </tr>\n    <tr>\n      <th>15584444</th>\n      <td>206499</td>\n      <td>1125</td>\n      <td>0.04850</td>\n    </tr>\n    <tr>\n      <th>15584445</th>\n      <td>206499</td>\n      <td>1126</td>\n      <td>0.01325</td>\n    </tr>\n    <tr>\n      <th>15584446</th>\n      <td>206499</td>\n      <td>1127</td>\n      <td>0.14025</td>\n    </tr>\n    <tr>\n      <th>15584447</th>\n      <td>206499</td>\n      <td>1128</td>\n      <td>0.03350</td>\n    </tr>\n  </tbody>\n</table>\n<p>15584448 rows × 3 columns</p>\n</div>"
     },
     "execution_count": 2,
     "metadata": {},
     "output_type": "execute_result"
    }
   ],
   "source": [
    "df = pd.read_csv(\"genome-scores.csv\")\n",
    "df"
   ]
  },
  {
   "cell_type": "code",
   "execution_count": 3,
   "metadata": {
    "pycharm": {
     "name": "#%%\n"
    }
   },
   "outputs": [
    {
     "data": {
      "text/plain": "array([     1,      2,      3, ..., 205383, 205425, 206499])"
     },
     "execution_count": 3,
     "metadata": {},
     "output_type": "execute_result"
    }
   ],
   "source": [
    "df[\"movieId\"].unique()"
   ]
  },
  {
   "cell_type": "code",
   "execution_count": 4,
   "metadata": {
    "pycharm": {
     "name": "#%%\n"
    }
   },
   "outputs": [],
   "source": [
    "#newdf1 = pd.DataFrame(columns=[\"movieId\"])\n",
    "#newdf2 = pd.DataFrame(columns=[i+1 for i in range(1128)])\n",
    "#newdf = pd.concat([newdf1,newdf2])\n",
    "#newdf\n",
    "\n",
    "#for movieID in list(df[\"movieId\"].unique()):\n",
    "#    c = [movieID]\n",
    "#    c.extend(list(df[df[\"movieId\"] == movieID][\"relevance\"]))\n",
    "#    newdf.loc[len(newdf)] = c\n",
    "\n",
    "#newdf\n",
    "\n",
    "#newdf.to_csv(\"movie_relevence.csv\",index=False)"
   ]
  },
  {
   "cell_type": "code",
   "execution_count": 5,
   "metadata": {
    "pycharm": {
     "name": "#%%\n"
    }
   },
   "outputs": [],
   "source": [
    "all_users_ratings = pd.read_csv(\"ratings.csv\")\n",
    "all_relevance = pd.read_csv(\"movie_relevence.csv\")\n",
    "movies_names=pd.read_csv(\"movies.csv\")"
   ]
  },
  {
   "cell_type": "code",
   "execution_count": 6,
   "metadata": {
    "pycharm": {
     "name": "#%%\n"
    }
   },
   "outputs": [
    {
     "data": {
      "text/plain": "    userId  movieId  rating   timestamp\n0        1      296     5.0  1147880044\n1        1      306     3.5  1147868817\n2        1      307     5.0  1147868828\n3        1      665     5.0  1147878820\n4        1      899     3.5  1147868510\n..     ...      ...     ...         ...\n65       1    27193     3.0  1147879774\n66       1    27266     4.5  1147879365\n67       1    27721     3.0  1147869115\n68       1    31956     3.5  1147877610\n69       1    32591     5.0  1147879538\n\n[70 rows x 4 columns]",
      "text/html": "<div>\n<style scoped>\n    .dataframe tbody tr th:only-of-type {\n        vertical-align: middle;\n    }\n\n    .dataframe tbody tr th {\n        vertical-align: top;\n    }\n\n    .dataframe thead th {\n        text-align: right;\n    }\n</style>\n<table border=\"1\" class=\"dataframe\">\n  <thead>\n    <tr style=\"text-align: right;\">\n      <th></th>\n      <th>userId</th>\n      <th>movieId</th>\n      <th>rating</th>\n      <th>timestamp</th>\n    </tr>\n  </thead>\n  <tbody>\n    <tr>\n      <th>0</th>\n      <td>1</td>\n      <td>296</td>\n      <td>5.0</td>\n      <td>1147880044</td>\n    </tr>\n    <tr>\n      <th>1</th>\n      <td>1</td>\n      <td>306</td>\n      <td>3.5</td>\n      <td>1147868817</td>\n    </tr>\n    <tr>\n      <th>2</th>\n      <td>1</td>\n      <td>307</td>\n      <td>5.0</td>\n      <td>1147868828</td>\n    </tr>\n    <tr>\n      <th>3</th>\n      <td>1</td>\n      <td>665</td>\n      <td>5.0</td>\n      <td>1147878820</td>\n    </tr>\n    <tr>\n      <th>4</th>\n      <td>1</td>\n      <td>899</td>\n      <td>3.5</td>\n      <td>1147868510</td>\n    </tr>\n    <tr>\n      <th>...</th>\n      <td>...</td>\n      <td>...</td>\n      <td>...</td>\n      <td>...</td>\n    </tr>\n    <tr>\n      <th>65</th>\n      <td>1</td>\n      <td>27193</td>\n      <td>3.0</td>\n      <td>1147879774</td>\n    </tr>\n    <tr>\n      <th>66</th>\n      <td>1</td>\n      <td>27266</td>\n      <td>4.5</td>\n      <td>1147879365</td>\n    </tr>\n    <tr>\n      <th>67</th>\n      <td>1</td>\n      <td>27721</td>\n      <td>3.0</td>\n      <td>1147869115</td>\n    </tr>\n    <tr>\n      <th>68</th>\n      <td>1</td>\n      <td>31956</td>\n      <td>3.5</td>\n      <td>1147877610</td>\n    </tr>\n    <tr>\n      <th>69</th>\n      <td>1</td>\n      <td>32591</td>\n      <td>5.0</td>\n      <td>1147879538</td>\n    </tr>\n  </tbody>\n</table>\n<p>70 rows × 4 columns</p>\n</div>"
     },
     "execution_count": 6,
     "metadata": {},
     "output_type": "execute_result"
    }
   ],
   "source": [
    "ratings=all_users_ratings[all_users_ratings.userId==1]\n",
    "ratings"
   ]
  },
  {
   "cell_type": "code",
   "execution_count": 7,
   "metadata": {
    "pycharm": {
     "name": "#%%\n"
    }
   },
   "outputs": [],
   "source": [
    "RATING_NUMBER = 4\n",
    "\n",
    "def get_top_genres_of_user(id):\n",
    "    genres_counter = {}\n",
    "\n",
    "    user_rated_movies = all_users_ratings[all_users_ratings.userId == id]\n",
    "    user_rated_movies = user_rated_movies[user_rated_movies[\"rating\"] > RATING_NUMBER]\n",
    "\n",
    "    for genre in list(movies_names.loc[movies_names[\"movieId\"].isin(user_rated_movies[\"movieId\"])][\"genres\"]):\n",
    "        if genre.count(\"|\") > 0:\n",
    "            l = genre.split(\"|\")\n",
    "            for item in l:\n",
    "                if item in genres_counter.keys():\n",
    "                    genres_counter[item] += 1\n",
    "                else:\n",
    "                    genres_counter[item] = 1\n",
    "        else:\n",
    "            if genre in genres_counter.keys():\n",
    "                genres_counter[item] += 1\n",
    "            else:\n",
    "                genres_counter[item] = 1\n",
    "\n",
    "    genres_counter = pd.DataFrame({\"genre\":genres_counter.keys(), \"counter\":genres_counter.values()})\n",
    "    genres_counter.sort_values(\"counter\", ascending=False, inplace=True)\n",
    "    genres_counter.reset_index(drop=True, inplace=True)\n",
    "    return genres_counter"
   ]
  },
  {
   "cell_type": "code",
   "execution_count": 8,
   "metadata": {
    "pycharm": {
     "name": "#%%\n"
    }
   },
   "outputs": [
    {
     "data": {
      "text/plain": "        genre  counter\n0       Drama       13\n1     Romance       11\n2      Comedy        9\n3       Crime        4\n4      Sci-Fi        4\n5    Thriller        3\n6         War        3\n7   Adventure        2\n8      Action        2\n9     Mystery        1\n10    Fantasy        1",
      "text/html": "<div>\n<style scoped>\n    .dataframe tbody tr th:only-of-type {\n        vertical-align: middle;\n    }\n\n    .dataframe tbody tr th {\n        vertical-align: top;\n    }\n\n    .dataframe thead th {\n        text-align: right;\n    }\n</style>\n<table border=\"1\" class=\"dataframe\">\n  <thead>\n    <tr style=\"text-align: right;\">\n      <th></th>\n      <th>genre</th>\n      <th>counter</th>\n    </tr>\n  </thead>\n  <tbody>\n    <tr>\n      <th>0</th>\n      <td>Drama</td>\n      <td>13</td>\n    </tr>\n    <tr>\n      <th>1</th>\n      <td>Romance</td>\n      <td>11</td>\n    </tr>\n    <tr>\n      <th>2</th>\n      <td>Comedy</td>\n      <td>9</td>\n    </tr>\n    <tr>\n      <th>3</th>\n      <td>Crime</td>\n      <td>4</td>\n    </tr>\n    <tr>\n      <th>4</th>\n      <td>Sci-Fi</td>\n      <td>4</td>\n    </tr>\n    <tr>\n      <th>5</th>\n      <td>Thriller</td>\n      <td>3</td>\n    </tr>\n    <tr>\n      <th>6</th>\n      <td>War</td>\n      <td>3</td>\n    </tr>\n    <tr>\n      <th>7</th>\n      <td>Adventure</td>\n      <td>2</td>\n    </tr>\n    <tr>\n      <th>8</th>\n      <td>Action</td>\n      <td>2</td>\n    </tr>\n    <tr>\n      <th>9</th>\n      <td>Mystery</td>\n      <td>1</td>\n    </tr>\n    <tr>\n      <th>10</th>\n      <td>Fantasy</td>\n      <td>1</td>\n    </tr>\n  </tbody>\n</table>\n</div>"
     },
     "execution_count": 8,
     "metadata": {},
     "output_type": "execute_result"
    }
   ],
   "source": [
    "get_top_genres_of_user(1)"
   ]
  },
  {
   "cell_type": "code",
   "execution_count": 9,
   "metadata": {
    "pycharm": {
     "name": "#%%\n"
    }
   },
   "outputs": [],
   "source": [
    "NUMBER_OF_RECOMMENDATIONS = 10\n",
    "NUMBER_OF_GENRES = 3\n",
    "\n",
    "def get_recommendations(id):\n",
    "    # Movies that rated by the user\n",
    "    user_rated_movies = all_users_ratings[all_users_ratings.userId==id]\n",
    "\n",
    "    # Tags relevance for movies that user rated\n",
    "    user_rated_relevance = all_relevance.loc[all_relevance[\"movieId\"].isin(user_rated_movies[\"movieId\"])]\n",
    "    \n",
    "    # Movies that rated by the user and appears in user_rated_relevance\n",
    "    user_rated_movies = user_rated_movies.loc[user_rated_movies[\"movieId\"].isin(user_rated_relevance[\"movieId\"])]\n",
    "\n",
    "    user_rated_relevance.reset_index(drop=True,inplace=True)\n",
    "    user_rated_movies.reset_index(drop=True,inplace=True)\n",
    "\n",
    "    # add user_rated_movies column to all movies relevance in user_rated_relevance\n",
    "    user_rated_relevance.loc[user_rated_relevance.index,\"user_rated_movies\"] = user_rated_movies[\"rating\"]\n",
    "\n",
    "    # Tags relevance for movies that user not rated\n",
    "    user_not_rated_relevance = all_relevance.loc[~(all_relevance[\"movieId\"].isin(user_rated_relevance[\"movieId\"]))]\n",
    "\n",
    "    # X_train and y_train for training the model\n",
    "    X_train = user_rated_relevance.iloc[:,1:-1]\n",
    "    y_train = user_rated_relevance.iloc[:,-1]\n",
    "\n",
    "    # creating model and training it\n",
    "    lgb = LGBMRegressor(learning_rate=0.01,num_iterations=1000,num_leaves=100)\n",
    "    lgb.fit(X_train,y_train)\n",
    "    train_score = \"{:.2f}\".format(lgb.score(X_train,y_train))\n",
    "\n",
    "    # The features of the movies that not rated by the user for prediction the rates of them\n",
    "    X_test = user_not_rated_relevance.iloc[:,1:]\n",
    "    # Predictions of the movies\n",
    "    pred = list(lgb.predict(X_test))\n",
    "\n",
    "    # New dataframe that shows the movie ids and the prediction of them\n",
    "    df_movieId_rating = pd.DataFrame({\"movieId\": user_not_rated_relevance.movieId, \"rating\": pred})\n",
    "    df_movieId_rating = df_movieId_rating.sort_values(\"rating\", ascending=False)\n",
    "\n",
    "    # Taking the top 10 movies with highest rate\n",
    "    top_recommendations = df_movieId_rating.head(NUMBER_OF_RECOMMENDATIONS)\n",
    "    movies_recommendations = movies_names.loc[movies_names[\"movieId\"].isin(top_recommendations[\"movieId\"])]\n",
    "    movies_recommendations.reset_index(drop=True, inplace=True)\n",
    "\n",
    "\n",
    "    genres_counter = {}\n",
    "    for genre in list(movies_recommendations[\"genres\"]):\n",
    "        if genre.count(\"|\") > 0:\n",
    "            l = genre.split(\"|\")\n",
    "            for item in l:\n",
    "                if item in genres_counter.keys():\n",
    "                    genres_counter[item] += 1\n",
    "                else:\n",
    "                    genres_counter[item] = 1\n",
    "        else:\n",
    "            if genre in genres_counter.keys():\n",
    "                genres_counter[item] += 1\n",
    "            else:\n",
    "                genres_counter[item] = 1\n",
    "    genres_counter = pd.DataFrame({\"genre\":genres_counter.keys(), \"counter\":genres_counter.values()})\n",
    "    genres_counter.sort_values(\"counter\", ascending=False, inplace=True)\n",
    "    genres_counter.reset_index(drop=True, inplace=True)\n",
    "\n",
    "    print(f\" TOP {NUMBER_OF_GENRES} GENRES OF RECOMMENDATIONS \".center(50, \"-\"))\n",
    "    print(genres_counter.head(NUMBER_OF_GENRES))\n",
    "    print(f\" TRAINING SCORE \".center(50, \"-\"))\n",
    "    print(\"training score:\", train_score)\n",
    "    return movies_recommendations"
   ]
  },
  {
   "cell_type": "code",
   "execution_count": 10,
   "metadata": {
    "pycharm": {
     "name": "#%%\n"
    }
   },
   "outputs": [
    {
     "name": "stdout",
     "output_type": "stream",
     "text": [
      "-------- TOP 3 GENRES OF RECOMMENDATIONS ---------\n",
      "    genre  counter\n",
      "0   Drama       10\n",
      "1  Comedy        5\n",
      "2   Crime        3\n",
      "----------------- TRAINING SCORE -----------------\n",
      "training score: 0.96\n"
     ]
    },
    {
     "data": {
      "text/plain": "   movieId                                     title                genres\n0     1729                       Jackie Brown (1997)  Crime|Drama|Thriller\n1     1757   Fallen Angels (Duo luo tian shi) (1995)         Drama|Romance\n2     2395                           Rushmore (1998)          Comedy|Drama\n3     2624       After Life (Wandafuru raifu) (1998)         Drama|Fantasy\n4     3019                   Drugstore Cowboy (1989)           Crime|Drama\n5     3328  Ghost Dog: The Way of the Samurai (1999)           Crime|Drama\n6     3925             Stranger Than Paradise (1984)          Comedy|Drama\n7     4741             Together (Tillsammans) (2000)  Comedy|Drama|Romance\n8    87234                          Submarine (2010)  Comedy|Drama|Romance\n9   102800                         Frances Ha (2012)          Comedy|Drama",
      "text/html": "<div>\n<style scoped>\n    .dataframe tbody tr th:only-of-type {\n        vertical-align: middle;\n    }\n\n    .dataframe tbody tr th {\n        vertical-align: top;\n    }\n\n    .dataframe thead th {\n        text-align: right;\n    }\n</style>\n<table border=\"1\" class=\"dataframe\">\n  <thead>\n    <tr style=\"text-align: right;\">\n      <th></th>\n      <th>movieId</th>\n      <th>title</th>\n      <th>genres</th>\n    </tr>\n  </thead>\n  <tbody>\n    <tr>\n      <th>0</th>\n      <td>1729</td>\n      <td>Jackie Brown (1997)</td>\n      <td>Crime|Drama|Thriller</td>\n    </tr>\n    <tr>\n      <th>1</th>\n      <td>1757</td>\n      <td>Fallen Angels (Duo luo tian shi) (1995)</td>\n      <td>Drama|Romance</td>\n    </tr>\n    <tr>\n      <th>2</th>\n      <td>2395</td>\n      <td>Rushmore (1998)</td>\n      <td>Comedy|Drama</td>\n    </tr>\n    <tr>\n      <th>3</th>\n      <td>2624</td>\n      <td>After Life (Wandafuru raifu) (1998)</td>\n      <td>Drama|Fantasy</td>\n    </tr>\n    <tr>\n      <th>4</th>\n      <td>3019</td>\n      <td>Drugstore Cowboy (1989)</td>\n      <td>Crime|Drama</td>\n    </tr>\n    <tr>\n      <th>5</th>\n      <td>3328</td>\n      <td>Ghost Dog: The Way of the Samurai (1999)</td>\n      <td>Crime|Drama</td>\n    </tr>\n    <tr>\n      <th>6</th>\n      <td>3925</td>\n      <td>Stranger Than Paradise (1984)</td>\n      <td>Comedy|Drama</td>\n    </tr>\n    <tr>\n      <th>7</th>\n      <td>4741</td>\n      <td>Together (Tillsammans) (2000)</td>\n      <td>Comedy|Drama|Romance</td>\n    </tr>\n    <tr>\n      <th>8</th>\n      <td>87234</td>\n      <td>Submarine (2010)</td>\n      <td>Comedy|Drama|Romance</td>\n    </tr>\n    <tr>\n      <th>9</th>\n      <td>102800</td>\n      <td>Frances Ha (2012)</td>\n      <td>Comedy|Drama</td>\n    </tr>\n  </tbody>\n</table>\n</div>"
     },
     "execution_count": 10,
     "metadata": {},
     "output_type": "execute_result"
    }
   ],
   "source": [
    "recommendations = get_recommendations(1)\n",
    "recommendations"
   ]
  }
 ],
 "metadata": {
  "kernelspec": {
   "display_name": "Python 3.9.13 ('base')",
   "language": "python",
   "name": "python3"
  },
  "language_info": {
   "codemirror_mode": {
    "name": "ipython",
    "version": 3
   },
   "file_extension": ".py",
   "mimetype": "text/x-python",
   "name": "python",
   "nbconvert_exporter": "python",
   "pygments_lexer": "ipython3",
   "version": "3.9.13"
  },
  "orig_nbformat": 4,
  "vscode": {
   "interpreter": {
    "hash": "31c6649e45e4473906927db628c1e622f754440dfd41de1e60e7d058ebcf4290"
   }
  }
 },
 "nbformat": 4,
 "nbformat_minor": 2
}